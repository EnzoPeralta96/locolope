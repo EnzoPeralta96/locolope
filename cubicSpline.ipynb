{
 "cells": [
  {
   "cell_type": "markdown",
   "id": "d3f120fa-eb4f-45d4-aa9c-845f605a1b71",
   "metadata": {},
   "source": [
    "Spline cubico: \n",
    "Es una interpolacion por tramos con polinomio de grado 3 que:\n",
    "- pasa por todos los puntos\n",
    "- tiene derivada continua\n",
    "- es util cuando queres una interpolacion estable, sin oscilaciones.\n",
    "\n",
    "Para utilizarlo en pyhon se debe importar: scipy.interpolate import CubicSpline\n",
    "La funcion recibe como parametro: \n",
    "* x : vector de abscisas\n",
    "* y : vector de ordenadas\n",
    "* bc_type: condiciones de borde (boundary condicion)\n",
    "  Tipo de bc:\n",
    "  - 'not-a-knot': bc por defecto, implica continudad de la 3ra derivada en los extremos.\n",
    "  - 'natural': segunda derivada nula en los extremos\n",
    "  - 'clamped': se fija derivadas en los extremos.\n",
    "\n",
    "La funcion retorna un objeto del tipo funcion cs(x0)\n",
    "Tambien se puede obtener las derivadas cs(x0,1) cs(x0,2) primera y segunda derivada, respectivamente. \n",
    "El objeto funcion, se comporta como una fn evaluable en cualquier punto del dominio, que internamente los coeficientes polinomiales por tramo y que permite derivacion, graficado y analisis. Se puede llamar de forma directa con un valor o un arreglo, y devuelve el resultado del spline evaluado en ese punto"
   ]
  },
  {
   "cell_type": "code",
   "execution_count": 17,
   "id": "78083514-b098-453c-887a-e3f0a48bcc6d",
   "metadata": {},
   "outputs": [
    {
     "name": "stdout",
     "output_type": "stream",
     "text": [
      "p(x)=2.1976945650164317\n"
     ]
    }
   ],
   "source": [
    "import numpy as np\n",
    "from scipy.interpolate import CubicSpline\n",
    "\n",
    "\n",
    "x = np.array([0.9, 1.3, 1.9, 2.1, 2.6, 3.0, 3.9, 4.4,4.7, 5.0, 6.0, 7.0, 8.0, 9.2, 10.5, 11.3,11.6,12.0,12.6,13.0,13.3])\n",
    "y = np.array([1.3,1.5,1.85,2.1,2.6,2.7,2.4,2.15,2.05,2.1,2.25,2.3,2.25,1.95,1.4,0.9,0.7,0.6,0.5,0.5,0.25])\n",
    "\n",
    "cs = CubicSpline(x,y, bc_type='natural')\n",
    "\n",
    "print(f\"p(x)={cs(5.5)}\")\n",
    "\n",
    "\n",
    "\n",
    "\n",
    "\n",
    "\n",
    "\n",
    "\n",
    "\n",
    "\n",
    "\n",
    "\n",
    "\n",
    "\n",
    "\n",
    "\n"
   ]
  },
  {
   "cell_type": "code",
   "execution_count": 2,
   "id": "50af263c-cf20-49b2-9e42-b55b3016cafe",
   "metadata": {},
   "outputs": [
    {
     "name": "stdout",
     "output_type": "stream",
     "text": [
      "2.1976945650164317\n"
     ]
    }
   ],
   "source": [
    "from scipy.interpolate import CubicSpline\n",
    "import numpy as np\n",
    "\n",
    "x = np.array([0.9, 1.3, 1.9, 2.1, 2.6, 3.0, 3.9, 4.4,4.7, 5.0, 6.0, 7.0, 8.0, 9.2, 10.5, 11.3,11.6,12.0,12.6,13.0,13.3])\n",
    "y = np.array([1.3,1.5,1.85,2.1,2.6,2.7,2.4,2.15,2.05,2.1,2.25,2.3,2.25,1.95,1.4,0.9,0.7,0.6,0.5,0.5,0.25])\n",
    "\n",
    "cs = CubicSpline(x,y,bc_type = 'natural')\n",
    "px0 = cs(5.5)\n",
    "print(px0)\n"
   ]
  },
  {
   "cell_type": "code",
   "execution_count": null,
   "id": "5263b2df-e9cd-41f3-9a60-ef6082c1bdab",
   "metadata": {},
   "outputs": [],
   "source": []
  }
 ],
 "metadata": {
  "kernelspec": {
   "display_name": "Python 3 (ipykernel)",
   "language": "python",
   "name": "python3"
  },
  "language_info": {
   "codemirror_mode": {
    "name": "ipython",
    "version": 3
   },
   "file_extension": ".py",
   "mimetype": "text/x-python",
   "name": "python",
   "nbconvert_exporter": "python",
   "pygments_lexer": "ipython3",
   "version": "3.12.7"
  }
 },
 "nbformat": 4,
 "nbformat_minor": 5
}
