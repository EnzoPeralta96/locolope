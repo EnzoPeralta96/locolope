{
 "cells": [
  {
   "cell_type": "code",
   "execution_count": 9,
   "id": "e4f1539b-bd6f-4d84-a094-7ed8a58d98ce",
   "metadata": {},
   "outputs": [
    {
     "name": "stdout",
     "output_type": "stream",
     "text": [
      "valores propios [2. 5. 6.]\n",
      "False\n"
     ]
    }
   ],
   "source": [
    "import numpy as np\n",
    "\n",
    "def diagonal_dominante(A):\n",
    "    filas, columnas = A.shape\n",
    "    \n",
    "    for i in range(filas):\n",
    "        suma = 0\n",
    "        for j in range(columnas):\n",
    "            if j != i :\n",
    "                suma += abs(A[i,j])\n",
    "                \n",
    "        if abs(A[i,i]) < abs(suma) :\n",
    "            return False\n",
    "                \n",
    "    return True\n",
    "\n",
    "def simetrica(A):\n",
    "    return np.array_equal(A, A.T)\n",
    "\n",
    "def definida_positiva(A):\n",
    "    eigvals = np.linalg.eigvals(A)\n",
    "    print(f\"valores propios {eigvals}\")\n",
    "    return not np.any(eigvals <= 0)\n",
    "\n",
    "def convergencia_gauss_seidel(A):\n",
    "\n",
    "    filas, columnas = A.shape\n",
    "\n",
    "    if filas != columnas :\n",
    "        return False\n",
    "    \n",
    "    if not diagonal_dominante(A):\n",
    "        return False\n",
    "\n",
    "    if not definida_positiva(A):\n",
    "        return False\n",
    "\n",
    "    if not simetrica(A):\n",
    "        return False\n",
    "\n",
    "    return True\n",
    "\n",
    "A = np.array([[3,2,0.0],[1,4,2.0],[0,0,6.0]])\n",
    "print(convergencia_gauss_seidel(A))"
   ]
  },
  {
   "cell_type": "code",
   "execution_count": null,
   "id": "6a3a98cd-1531-4218-af47-110b83511611",
   "metadata": {},
   "outputs": [],
   "source": []
  }
 ],
 "metadata": {
  "kernelspec": {
   "display_name": "Python 3 (ipykernel)",
   "language": "python",
   "name": "python3"
  },
  "language_info": {
   "codemirror_mode": {
    "name": "ipython",
    "version": 3
   },
   "file_extension": ".py",
   "mimetype": "text/x-python",
   "name": "python",
   "nbconvert_exporter": "python",
   "pygments_lexer": "ipython3",
   "version": "3.12.7"
  }
 },
 "nbformat": 4,
 "nbformat_minor": 5
}
