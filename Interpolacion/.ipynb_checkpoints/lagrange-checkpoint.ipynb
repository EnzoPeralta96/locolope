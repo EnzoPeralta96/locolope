{
 "cells": [
  {
   "cell_type": "raw",
   "id": "1201faca-d008-4601-9765-090febbdd3b0",
   "metadata": {},
   "source": [
    "Teorema de existencia y unicidad:\n",
    "Dados n + 1 puntos diferentes x_i = 0,...,n y n+1 ordenadas y_i\n",
    "existe y es u nico el polinomio interpolante de grado <= n que interpola\n",
    "a los y_i en los puntos x_i \n",
    "\n",
    "Dado un conjunto de puntos (x,y) programe una funcion que determine si existe o no un polinomio\n",
    "que interpole dichos puntos. Ademas en caso afirmativo cual seria el grando maximo que tendría ese polinomio.\n",
    "¿Cuantos polinomios se pueden obtener con dichos puntos?\n"
   ]
  },
  {
   "cell_type": "code",
   "execution_count": 5,
   "id": "e58528ac-ef53-4ed2-b08c-8267981b2615",
   "metadata": {},
   "outputs": [
    {
     "name": "stdout",
     "output_type": "stream",
     "text": [
      "(True, 3)\n"
     ]
    }
   ],
   "source": [
    "import numpy as np\n",
    "def existe_polinomio(x,y):\n",
    "    if len(x) != len(y):\n",
    "        return False, -999\n",
    "    n = len(x)\n",
    "    \n",
    "    for i in range(n):\n",
    "        for k in range(n):\n",
    "            if( i != k and x[i] == x[k] and y[i] != y[k]):\n",
    "                return False, -1\n",
    "\n",
    "    x_sin_rep = set(x)\n",
    "    return True, len(x_sin_rep)-1\n",
    "\n",
    "def existe_polinomio2(x,f):\n",
    "    n = len(x)\n",
    "    for i in range(n):\n",
    "        for k in range(n):\n",
    "            if( i != k and x[i] == x[k] and f(x[i]) != f(x[k]):\n",
    "                return False, -1\n",
    "\n",
    "    x_sin_rep = set(x)\n",
    "    return True, len(x_sin_rep)-1\n",
    "    \n",
    "x = np.array([1,3,4,5,5,5])      \n",
    "y = np.array([1,3,6,8,8,8])\n",
    "\n",
    "print(existe_polinomio(x,y))"
   ]
  },
  {
   "cell_type": "code",
   "execution_count": 45,
   "id": "26932e17-0c2b-445b-b458-ed8503204b41",
   "metadata": {},
   "outputs": [
    {
     "name": "stdout",
     "output_type": "stream",
     "text": [
      "p(x):-0.051873*x**2 + 0.721463*x - 0.66959\n",
      "\n",
      "p(2)=0.5658439999999999\n",
      "p(3) = 0.32955\n"
     ]
    }
   ],
   "source": [
    "import numpy as np\n",
    "import sympy as sp\n",
    "\n",
    "def pol_lagrange(x,y):\n",
    "    X = sp.Symbol('x')\n",
    "    n = len(x)\n",
    "    suma = 0\n",
    "    \n",
    "    for k in range(n):\n",
    "        producto = 1\n",
    "        for i in range(n):        \n",
    "            if( i != k):\n",
    "                producto *= (X-x[i])/(x[k] - x[i])\n",
    "\n",
    "        suma += y[k] * producto\n",
    "        \n",
    "    return sp.expand(suma)\n",
    "\n",
    "\n",
    "x = np.array([1, 4.0,6])\n",
    "y = np.array([0, 1.386294,1.791760])\n",
    "\n",
    "pol = pol_lagrange(x,y)\n",
    "\n",
    "f_pol = sp.lambdify('x',pol)\n",
    "\n",
    "print(f\"p(x):{pol}\")\n",
    "print()\n",
    "print(f\"p(2)={f_pol(2)}\")"
   ]
  },
  {
   "cell_type": "markdown",
   "id": "2d8933c9-5636-434f-8858-080806c73c35",
   "metadata": {},
   "source": [
    "Teorema :  \n",
    "Sea f(x) : [a,b] -> R , n + 1 veces diferenciable y sean {x_i} i = 0,..., n n+1 puntos distintos en [a,b] \n",
    "Si p(x) es el pol de grando <= n que interpola a f(x) en x0,...,xn  => para cada x en [a,b] existe Eps ∈ (a,b) :\n",
    "f(x) - p(x) = [(x-x0)...(x-xn)/(n + 1)!]* f^(n+1)(Eps), Eps ∈ (a,b)"
   ]
  },
  {
   "cell_type": "markdown",
   "id": "b59b4a92-fa91-4279-b1b1-279aadd3f5c2",
   "metadata": {},
   "source": [
    "a) Use los números (llamados nodos)\n",
    " x0 = 2, x1 = 2.75 y x2 = 4 para encontrar el polinomio de interpolación de Lagrange\n",
    "de segundo grado para f(x) = 1/x.\n",
    "b) Use este polinomio para aproximar f(3) = 1/3.\n",
    "c) Determine la forma del error para este polinomio\n",
    "y el error máximo cuando el polinomio se usa para aproximar f(x) para x ∈ [2,4]\n"
   ]
  },
  {
   "cell_type": "code",
   "execution_count": 34,
   "id": "97fb77f3-db6b-48be-a4d6-d0288a63bcfa",
   "metadata": {},
   "outputs": [
    {
     "name": "stdout",
     "output_type": "stream",
     "text": [
      "0.6666666666666666\n",
      "-1.0666666666666667\n",
      "0.4\n",
      "Valores de y:[0.5        0.36363636 0.25      ]\n",
      "valores aux[ 0.33333333 -0.38787879  0.1       ]\n"
     ]
    }
   ],
   "source": [
    "import numpy as np\n",
    "l0 = (1/(2 - 2.75)) *(1 / (2-4))\n",
    "print(l0)\n",
    "\n",
    "l1 = (1/(2.75-2))*(1/(2.75-4))\n",
    "print(l1)\n",
    "\n",
    "l2 = (1/(4-2))*(1/(4-2.75))\n",
    "print(l2)\n",
    "\n",
    "def f(x):\n",
    "    return 1/x\n",
    "\n",
    "l = np.array([l0, l1, l2])\n",
    "x = np.array([2,2.75,4.0])\n",
    "print(f\"Valores de y:{f(x)}\")\n",
    "print(f\"valores aux{l*f(x)}\")\n",
    "\n"
   ]
  },
  {
   "cell_type": "markdown",
   "id": "18b26c94-0379-44c7-84f7-84c64a01c698",
   "metadata": {},
   "source": [
    "a)\n",
    "polinomio de Lagrange :  p(x) = f(x0)l0(x) + f(x1)*l1(x) + f(x2)*l2(x) + ... + f(x_n-1)*l_n-1(x) + f(x_n)*l_n(x)\n",
    "\n",
    "l_k(x) = Producto desde i = 0 hasta n con i != k  (x - x_i)/(x_k - x_i)\n",
    "\n",
    "\n",
    "\n",
    "l0(x) = (x - 2,75)/(2 - 2,75) * (x-4)/(2 - 4) = 0.66(x - 2,75) *(x -4 )\n",
    "l0(x) = 0.6666(x - 2,75) * (x -4)\n",
    "\n",
    "l1(x) = (x - 2)/(2.75-2) * (x-4)/(2.75 - 4) = -1.066(x-2)(x-4)\n",
    "l1(x) = -1.066(x-2)(x-4)\n",
    "\n",
    "l2(x) = (x - 2)/4-2 * (x-2.75)/4-2.75 = 0.4*(x-2)(x-2.75)\n",
    "l2(x) = 0.4*(x-2)(x-2.75)\n",
    "\n",
    "f(x0) = 0.5\n",
    "f(x1) = 0.3636\n",
    "f(x2) = 0.25\n",
    "\n",
    "p(x) = 0.3333(x-2,75)*(x-4) - 0.3876*(x-2)*(x-4) + 0.1*(x-2)*(x-2.75)"
   ]
  },
  {
   "cell_type": "code",
   "execution_count": 48,
   "id": "20692e3d-0679-46fc-8bcb-a52fa1618c4f",
   "metadata": {},
   "outputs": [
    {
     "name": "stdout",
     "output_type": "stream",
     "text": [
      "p(3) = 0.32927\n",
      "p(3) = 0.32955\n"
     ]
    }
   ],
   "source": [
    "import numpy as np\n",
    "import sympy as sp\n",
    "\n",
    "def p(a):\n",
    "    x = sp.Symbol('x')\n",
    "    p = sp.expand((0.3333*(x - 2.75)*(x - 4.0)) - (0.3876*(x-2.0)*(x-4.0)) + (0.1*(x-2.0)*(x-2.75)))\n",
    "    p_f = sp.lambdify('x',p)\n",
    "    return round(p_f(a),5)\n",
    "\n",
    "a = 3\n",
    "print(f\"p({a}) = {p(3)}\")\n",
    "\n",
    "\n",
    "def f(x):\n",
    "    return 1/x\n",
    "\n",
    "\n",
    "x2 = np.array([2,2.75,4])\n",
    "y2 = np.zeros(len(x2))\n",
    "y2 = f(x2)\n",
    "\n",
    "a=3\n",
    "f2_pol = sp.lambdify('x', pol_lagrange(x2,y2))\n",
    "print(f\"p({a}) = {round(f2_pol(a),5)}\")"
   ]
  },
  {
   "cell_type": "markdown",
   "id": "0c9a34df-f46d-4362-ade0-c985da095869",
   "metadata": {},
   "source": [
    "c) Calculo del error \n",
    "x0 = 2, x1 = 2.75 y x2 = 4 \n",
    "\n",
    "f(x) - p(x) = [(x-x0)*...*(x-x_n) / (n + 1)!] * Dn+1 f(Eps)\n",
    "n = 2\n",
    "f(x) = x ^ -1\n",
    "f'(x) = - x ^ -2\n",
    "f''(x)= - (-2) x ^ - 3 = 2*x^-3\n",
    "f'''(x) = -6 * x^ -4\n",
    "\n",
    " Entonces \n",
    " f(x) - p(x) = [(x -2) * (x-2.75) * (x-4) / ( 2 + 1)!] * (-6 * Eps ^ -4)\n",
    "\n",
    " Para calcular el error maximo, debemos buscar el mayor valor de f en [2,4] -> cuando x = 2 - > eps = 2 \n",
    "  f(x) - p(x) = [(x -2) * (x-2.75) * (x-4) / ( 2 + 1)!] * (-6 * Eps ^ -4)\n",
    "  f(x) - p(x) = [(x -2) * (x-2.75) * (x-4) / ( 2 + 1)!] * (-6 * 2 ^ -4)\n",
    "  f(x) - p(x) = [(x -2) * (x-2.75) * (x-4) / ( 2 + 1)!] * (-6 / 2 ^ 4)\n",
    "  \n",
    "  Entonces el error cometido cuando se calcula p(3) es : \n",
    "  f(x) - p(x) =  (3-2)*(3-2.75)*(3-4)/ 3! * (-6 / 2 ^ 4)\n",
    "  f(x) - p(x) =  (-1)0.25 / 6) * (-6 / 2 ^ 4)\n",
    "   f(x) - p(x) =  0.25 / 2 ^ 4)\n",
    "  e = f(x) - p(x) = 0.015625\n",
    "\n",
    "\n",
    "\n",
    " "
   ]
  },
  {
   "cell_type": "code",
   "execution_count": 52,
   "id": "6beef3e2-edef-4324-adf4-82aa0a2c827b",
   "metadata": {},
   "outputs": [
    {
     "name": "stdout",
     "output_type": "stream",
     "text": [
      "0.015625\n"
     ]
    }
   ],
   "source": [
    "e =  (0.25 / 2 ** 4)\n",
    "print(e)"
   ]
  },
  {
   "cell_type": "markdown",
   "id": "7b35d683-8b88-4d86-8de4-33dec1795e8d",
   "metadata": {},
   "source": [
    "Metodo de Lagrange \n",
    "Ventajas: \n",
    "- Evitar resolver un sistema de ecuaciones no lineales, el tiene un costo O(n^3). \n",
    "- Tiene un costo del orden O(n^2)\n",
    "\n",
    "Desventajas:\n",
    "- Para estimar una cota del error se necesita conocer la derivada del orden n+1. \n",
    "- No es facil utilizar en problemas de integracion o diferenciacion. \n",
    "- Si se agrega un punto hay que recalcular todos los coeficientes.\n",
    "\n",
    "\n"
   ]
  },
  {
   "cell_type": "code",
   "execution_count": null,
   "id": "39bc2139-1eaa-48f1-88b1-e0a0f41dc8cc",
   "metadata": {},
   "outputs": [],
   "source": []
  }
 ],
 "metadata": {
  "kernelspec": {
   "display_name": "Python 3 (ipykernel)",
   "language": "python",
   "name": "python3"
  },
  "language_info": {
   "codemirror_mode": {
    "name": "ipython",
    "version": 3
   },
   "file_extension": ".py",
   "mimetype": "text/x-python",
   "name": "python",
   "nbconvert_exporter": "python",
   "pygments_lexer": "ipython3",
   "version": "3.12.7"
  }
 },
 "nbformat": 4,
 "nbformat_minor": 5
}
